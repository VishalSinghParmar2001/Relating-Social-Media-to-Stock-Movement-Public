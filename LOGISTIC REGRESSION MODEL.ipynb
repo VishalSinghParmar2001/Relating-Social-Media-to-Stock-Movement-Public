{
  "cells": [
    {
      "cell_type": "code",
      "execution_count": null,
      "id": "07864423",
      "metadata": {
        "id": "07864423"
      },
      "outputs": [],
      "source": [
        "import pandas as pd\n",
        "from glob import glob\n",
        "import numpy as np"
      ]
    },
    {
      "cell_type": "code",
      "execution_count": null,
      "id": "c4b38a3c",
      "metadata": {
        "id": "c4b38a3c",
        "outputId": "d9e8b086-1060-409c-fabc-f9b6c72d01aa"
      },
      "outputs": [
        {
          "data": {
            "text/plain": [
              "['/home/mayank/Downloads/technocolab_project/data/stock1.csv',\n",
              " '/home/mayank/Downloads/technocolab_project/data/stock2.csv',\n",
              " '/home/mayank/Downloads/technocolab_project/data/stock3.csv',\n",
              " '/home/mayank/Downloads/technocolab_project/data/stock4.csv',\n",
              " '/home/mayank/Downloads/technocolab_project/data/stock5.csv']"
            ]
          },
          "execution_count": 2,
          "metadata": {},
          "output_type": "execute_result"
        }
      ],
      "source": [
        "stock_files = sorted(glob('/home/mayank/Downloads/technocolab_project/data/stock*.csv'))\n",
        "stock_files"
      ]
    },
    {
      "cell_type": "code",
      "execution_count": null,
      "id": "098d3797",
      "metadata": {
        "scrolled": true,
        "id": "098d3797"
      },
      "outputs": [],
      "source": [
        "data = pd.concat((pd.read_csv(file).assign(filename = file)\n",
        "          for  file in stock_files),ignore_index = True)"
      ]
    },
    {
      "cell_type": "code",
      "execution_count": null,
      "id": "c313619f",
      "metadata": {
        "id": "c313619f",
        "outputId": "d8361a5f-c3d4-4001-879e-9e514a028819"
      },
      "outputs": [
        {
          "data": {
            "text/html": [
              "<div>\n",
              "<style scoped>\n",
              "    .dataframe tbody tr th:only-of-type {\n",
              "        vertical-align: middle;\n",
              "    }\n",
              "\n",
              "    .dataframe tbody tr th {\n",
              "        vertical-align: top;\n",
              "    }\n",
              "\n",
              "    .dataframe thead th {\n",
              "        text-align: right;\n",
              "    }\n",
              "</style>\n",
              "<table border=\"1\" class=\"dataframe\">\n",
              "  <thead>\n",
              "    <tr style=\"text-align: right;\">\n",
              "      <th></th>\n",
              "      <th>date</th>\n",
              "      <th>open</th>\n",
              "      <th>high</th>\n",
              "      <th>low</th>\n",
              "      <th>close</th>\n",
              "      <th>volume</th>\n",
              "      <th>Name</th>\n",
              "      <th>filename</th>\n",
              "    </tr>\n",
              "  </thead>\n",
              "  <tbody>\n",
              "    <tr>\n",
              "      <th>0</th>\n",
              "      <td>2013-02-08</td>\n",
              "      <td>78.34</td>\n",
              "      <td>79.72</td>\n",
              "      <td>78.0100</td>\n",
              "      <td>78.90</td>\n",
              "      <td>1298137</td>\n",
              "      <td>AAP</td>\n",
              "      <td>/home/mayank/Downloads/technocolab_project/dat...</td>\n",
              "    </tr>\n",
              "    <tr>\n",
              "      <th>1</th>\n",
              "      <td>2013-02-11</td>\n",
              "      <td>78.65</td>\n",
              "      <td>78.91</td>\n",
              "      <td>77.2300</td>\n",
              "      <td>78.39</td>\n",
              "      <td>758016</td>\n",
              "      <td>AAP</td>\n",
              "      <td>/home/mayank/Downloads/technocolab_project/dat...</td>\n",
              "    </tr>\n",
              "    <tr>\n",
              "      <th>2</th>\n",
              "      <td>2013-02-12</td>\n",
              "      <td>78.39</td>\n",
              "      <td>78.63</td>\n",
              "      <td>77.5132</td>\n",
              "      <td>78.60</td>\n",
              "      <td>876859</td>\n",
              "      <td>AAP</td>\n",
              "      <td>/home/mayank/Downloads/technocolab_project/dat...</td>\n",
              "    </tr>\n",
              "    <tr>\n",
              "      <th>3</th>\n",
              "      <td>2013-02-13</td>\n",
              "      <td>78.90</td>\n",
              "      <td>79.13</td>\n",
              "      <td>77.8500</td>\n",
              "      <td>78.97</td>\n",
              "      <td>1038574</td>\n",
              "      <td>AAP</td>\n",
              "      <td>/home/mayank/Downloads/technocolab_project/dat...</td>\n",
              "    </tr>\n",
              "    <tr>\n",
              "      <th>4</th>\n",
              "      <td>2013-02-14</td>\n",
              "      <td>78.66</td>\n",
              "      <td>79.72</td>\n",
              "      <td>78.5850</td>\n",
              "      <td>78.84</td>\n",
              "      <td>1005376</td>\n",
              "      <td>AAP</td>\n",
              "      <td>/home/mayank/Downloads/technocolab_project/dat...</td>\n",
              "    </tr>\n",
              "    <tr>\n",
              "      <th>...</th>\n",
              "      <td>...</td>\n",
              "      <td>...</td>\n",
              "      <td>...</td>\n",
              "      <td>...</td>\n",
              "      <td>...</td>\n",
              "      <td>...</td>\n",
              "      <td>...</td>\n",
              "      <td>...</td>\n",
              "    </tr>\n",
              "    <tr>\n",
              "      <th>5693</th>\n",
              "      <td>2018-02-01</td>\n",
              "      <td>65.18</td>\n",
              "      <td>66.95</td>\n",
              "      <td>65.1800</td>\n",
              "      <td>66.28</td>\n",
              "      <td>2062510</td>\n",
              "      <td>WRK</td>\n",
              "      <td>/home/mayank/Downloads/technocolab_project/dat...</td>\n",
              "    </tr>\n",
              "    <tr>\n",
              "      <th>5694</th>\n",
              "      <td>2018-02-02</td>\n",
              "      <td>66.01</td>\n",
              "      <td>67.54</td>\n",
              "      <td>65.8850</td>\n",
              "      <td>67.24</td>\n",
              "      <td>2711178</td>\n",
              "      <td>WRK</td>\n",
              "      <td>/home/mayank/Downloads/technocolab_project/dat...</td>\n",
              "    </tr>\n",
              "    <tr>\n",
              "      <th>5695</th>\n",
              "      <td>2018-02-05</td>\n",
              "      <td>66.97</td>\n",
              "      <td>66.97</td>\n",
              "      <td>63.7700</td>\n",
              "      <td>63.96</td>\n",
              "      <td>3116866</td>\n",
              "      <td>WRK</td>\n",
              "      <td>/home/mayank/Downloads/technocolab_project/dat...</td>\n",
              "    </tr>\n",
              "    <tr>\n",
              "      <th>5696</th>\n",
              "      <td>2018-02-06</td>\n",
              "      <td>62.98</td>\n",
              "      <td>64.62</td>\n",
              "      <td>62.0010</td>\n",
              "      <td>64.55</td>\n",
              "      <td>3195188</td>\n",
              "      <td>WRK</td>\n",
              "      <td>/home/mayank/Downloads/technocolab_project/dat...</td>\n",
              "    </tr>\n",
              "    <tr>\n",
              "      <th>5697</th>\n",
              "      <td>2018-02-07</td>\n",
              "      <td>64.39</td>\n",
              "      <td>65.94</td>\n",
              "      <td>64.1400</td>\n",
              "      <td>64.42</td>\n",
              "      <td>2440702</td>\n",
              "      <td>WRK</td>\n",
              "      <td>/home/mayank/Downloads/technocolab_project/dat...</td>\n",
              "    </tr>\n",
              "  </tbody>\n",
              "</table>\n",
              "<p>5698 rows × 8 columns</p>\n",
              "</div>"
            ],
            "text/plain": [
              "            date   open   high      low  close   volume Name  \\\n",
              "0     2013-02-08  78.34  79.72  78.0100  78.90  1298137  AAP   \n",
              "1     2013-02-11  78.65  78.91  77.2300  78.39   758016  AAP   \n",
              "2     2013-02-12  78.39  78.63  77.5132  78.60   876859  AAP   \n",
              "3     2013-02-13  78.90  79.13  77.8500  78.97  1038574  AAP   \n",
              "4     2013-02-14  78.66  79.72  78.5850  78.84  1005376  AAP   \n",
              "...          ...    ...    ...      ...    ...      ...  ...   \n",
              "5693  2018-02-01  65.18  66.95  65.1800  66.28  2062510  WRK   \n",
              "5694  2018-02-02  66.01  67.54  65.8850  67.24  2711178  WRK   \n",
              "5695  2018-02-05  66.97  66.97  63.7700  63.96  3116866  WRK   \n",
              "5696  2018-02-06  62.98  64.62  62.0010  64.55  3195188  WRK   \n",
              "5697  2018-02-07  64.39  65.94  64.1400  64.42  2440702  WRK   \n",
              "\n",
              "                                               filename  \n",
              "0     /home/mayank/Downloads/technocolab_project/dat...  \n",
              "1     /home/mayank/Downloads/technocolab_project/dat...  \n",
              "2     /home/mayank/Downloads/technocolab_project/dat...  \n",
              "3     /home/mayank/Downloads/technocolab_project/dat...  \n",
              "4     /home/mayank/Downloads/technocolab_project/dat...  \n",
              "...                                                 ...  \n",
              "5693  /home/mayank/Downloads/technocolab_project/dat...  \n",
              "5694  /home/mayank/Downloads/technocolab_project/dat...  \n",
              "5695  /home/mayank/Downloads/technocolab_project/dat...  \n",
              "5696  /home/mayank/Downloads/technocolab_project/dat...  \n",
              "5697  /home/mayank/Downloads/technocolab_project/dat...  \n",
              "\n",
              "[5698 rows x 8 columns]"
            ]
          },
          "execution_count": 4,
          "metadata": {},
          "output_type": "execute_result"
        }
      ],
      "source": [
        "data"
      ]
    },
    {
      "cell_type": "code",
      "execution_count": null,
      "id": "7b0b452f",
      "metadata": {
        "id": "7b0b452f"
      },
      "outputs": [],
      "source": [
        "data.date = pd.to_datetime(data.date)\n"
      ]
    },
    {
      "cell_type": "code",
      "execution_count": null,
      "id": "5014ed8d",
      "metadata": {
        "id": "5014ed8d",
        "outputId": "f66f9cae-1d2f-495f-eae4-7191723c151d"
      },
      "outputs": [
        {
          "name": "stdout",
          "output_type": "stream",
          "text": [
            "<class 'pandas.core.frame.DataFrame'>\n",
            "RangeIndex: 5698 entries, 0 to 5697\n",
            "Data columns (total 8 columns):\n",
            " #   Column    Non-Null Count  Dtype         \n",
            "---  ------    --------------  -----         \n",
            " 0   date      5698 non-null   datetime64[ns]\n",
            " 1   open      5697 non-null   float64       \n",
            " 2   high      5697 non-null   float64       \n",
            " 3   low       5697 non-null   float64       \n",
            " 4   close     5698 non-null   float64       \n",
            " 5   volume    5698 non-null   int64         \n",
            " 6   Name      5698 non-null   object        \n",
            " 7   filename  5698 non-null   object        \n",
            "dtypes: datetime64[ns](1), float64(4), int64(1), object(2)\n",
            "memory usage: 356.2+ KB\n"
          ]
        }
      ],
      "source": [
        "data.info()"
      ]
    },
    {
      "cell_type": "code",
      "execution_count": null,
      "id": "64e53a73",
      "metadata": {
        "id": "64e53a73"
      },
      "outputs": [],
      "source": [
        "sentimentalanalysis=pd.read_csv('analyzedJSON_data.csv')"
      ]
    },
    {
      "cell_type": "code",
      "execution_count": null,
      "id": "90991c61",
      "metadata": {
        "id": "90991c61",
        "outputId": "4405e6df-673a-420f-d93b-d113ff277625"
      },
      "outputs": [
        {
          "data": {
            "text/html": [
              "<div>\n",
              "<style scoped>\n",
              "    .dataframe tbody tr th:only-of-type {\n",
              "        vertical-align: middle;\n",
              "    }\n",
              "\n",
              "    .dataframe tbody tr th {\n",
              "        vertical-align: top;\n",
              "    }\n",
              "\n",
              "    .dataframe thead th {\n",
              "        text-align: right;\n",
              "    }\n",
              "</style>\n",
              "<table border=\"1\" class=\"dataframe\">\n",
              "  <thead>\n",
              "    <tr style=\"text-align: right;\">\n",
              "      <th></th>\n",
              "      <th>Unnamed: 0</th>\n",
              "      <th>Unnamed: 0.1</th>\n",
              "      <th>score</th>\n",
              "      <th>date</th>\n",
              "      <th>cont_len</th>\n",
              "      <th>cont_pol</th>\n",
              "      <th>cont_sent</th>\n",
              "    </tr>\n",
              "  </thead>\n",
              "  <tbody>\n",
              "    <tr>\n",
              "      <th>0</th>\n",
              "      <td>0</td>\n",
              "      <td>1</td>\n",
              "      <td>1</td>\n",
              "      <td>2014-10-09</td>\n",
              "      <td>16</td>\n",
              "      <td>0.800000</td>\n",
              "      <td>Positive</td>\n",
              "    </tr>\n",
              "    <tr>\n",
              "      <th>1</th>\n",
              "      <td>1</td>\n",
              "      <td>3</td>\n",
              "      <td>1</td>\n",
              "      <td>2014-02-19</td>\n",
              "      <td>434</td>\n",
              "      <td>-0.037771</td>\n",
              "      <td>Negative</td>\n",
              "    </tr>\n",
              "    <tr>\n",
              "      <th>2</th>\n",
              "      <td>2</td>\n",
              "      <td>4</td>\n",
              "      <td>1</td>\n",
              "      <td>2014-04-24</td>\n",
              "      <td>159</td>\n",
              "      <td>0.000000</td>\n",
              "      <td>Neutral</td>\n",
              "    </tr>\n",
              "    <tr>\n",
              "      <th>3</th>\n",
              "      <td>3</td>\n",
              "      <td>5</td>\n",
              "      <td>1</td>\n",
              "      <td>2014-01-20</td>\n",
              "      <td>72</td>\n",
              "      <td>0.000000</td>\n",
              "      <td>Neutral</td>\n",
              "    </tr>\n",
              "    <tr>\n",
              "      <th>4</th>\n",
              "      <td>4</td>\n",
              "      <td>6</td>\n",
              "      <td>1</td>\n",
              "      <td>2014-07-25</td>\n",
              "      <td>71</td>\n",
              "      <td>0.000000</td>\n",
              "      <td>Neutral</td>\n",
              "    </tr>\n",
              "  </tbody>\n",
              "</table>\n",
              "</div>"
            ],
            "text/plain": [
              "   Unnamed: 0  Unnamed: 0.1  score        date  cont_len  cont_pol cont_sent\n",
              "0           0             1      1  2014-10-09        16  0.800000  Positive\n",
              "1           1             3      1  2014-02-19       434 -0.037771  Negative\n",
              "2           2             4      1  2014-04-24       159  0.000000   Neutral\n",
              "3           3             5      1  2014-01-20        72  0.000000   Neutral\n",
              "4           4             6      1  2014-07-25        71  0.000000   Neutral"
            ]
          },
          "execution_count": 8,
          "metadata": {},
          "output_type": "execute_result"
        }
      ],
      "source": [
        "sentimentalanalysis.head()"
      ]
    },
    {
      "cell_type": "code",
      "execution_count": null,
      "id": "a5380a7f",
      "metadata": {
        "id": "a5380a7f"
      },
      "outputs": [],
      "source": [
        "sentimentalanalysis.date = pd.to_datetime(sentimentalanalysis.date)\n",
        "data.date = pd.to_datetime(data.date)\n"
      ]
    },
    {
      "cell_type": "code",
      "execution_count": null,
      "id": "151983bf",
      "metadata": {
        "id": "151983bf"
      },
      "outputs": [],
      "source": [
        "merged_data=pd.merge(data,sentimentalanalysis)"
      ]
    },
    {
      "cell_type": "code",
      "execution_count": null,
      "id": "726f1286",
      "metadata": {
        "id": "726f1286"
      },
      "outputs": [],
      "source": [
        "#merged_data = pd.merge(data, sentimentalanalysis, how='left', on='date')\n"
      ]
    },
    {
      "cell_type": "code",
      "execution_count": null,
      "id": "90ff679b",
      "metadata": {
        "id": "90ff679b"
      },
      "outputs": [],
      "source": [
        "#merged_data.groupby(['date'], as_index=False).sum() \n",
        "#merged_data.drop_duplicates(subset='date',keep='first',inplace=True)"
      ]
    },
    {
      "cell_type": "code",
      "execution_count": null,
      "id": "b296fee8",
      "metadata": {
        "id": "b296fee8",
        "outputId": "6b7b28e5-3ab3-4a05-fa95-23fd5ba0eae2"
      },
      "outputs": [
        {
          "name": "stdout",
          "output_type": "stream",
          "text": [
            "<class 'pandas.core.frame.DataFrame'>\n",
            "Int64Index: 6412764 entries, 0 to 6412763\n",
            "Data columns (total 14 columns):\n",
            " #   Column        Dtype         \n",
            "---  ------        -----         \n",
            " 0   date          datetime64[ns]\n",
            " 1   open          float64       \n",
            " 2   high          float64       \n",
            " 3   low           float64       \n",
            " 4   close         float64       \n",
            " 5   volume        int64         \n",
            " 6   Name          object        \n",
            " 7   filename      object        \n",
            " 8   Unnamed: 0    int64         \n",
            " 9   Unnamed: 0.1  int64         \n",
            " 10  score         int64         \n",
            " 11  cont_len      int64         \n",
            " 12  cont_pol      float64       \n",
            " 13  cont_sent     object        \n",
            "dtypes: datetime64[ns](1), float64(5), int64(5), object(3)\n",
            "memory usage: 733.9+ MB\n"
          ]
        }
      ],
      "source": [
        "merged_data.info()"
      ]
    },
    {
      "cell_type": "code",
      "execution_count": null,
      "id": "9c35f5e1",
      "metadata": {
        "id": "9c35f5e1",
        "outputId": "b0b0da3d-1e05-48a6-86f7-1d3851cdb92f"
      },
      "outputs": [
        {
          "data": {
            "text/html": [
              "<div>\n",
              "<style scoped>\n",
              "    .dataframe tbody tr th:only-of-type {\n",
              "        vertical-align: middle;\n",
              "    }\n",
              "\n",
              "    .dataframe tbody tr th {\n",
              "        vertical-align: top;\n",
              "    }\n",
              "\n",
              "    .dataframe thead th {\n",
              "        text-align: right;\n",
              "    }\n",
              "</style>\n",
              "<table border=\"1\" class=\"dataframe\">\n",
              "  <thead>\n",
              "    <tr style=\"text-align: right;\">\n",
              "      <th></th>\n",
              "      <th>date</th>\n",
              "      <th>open</th>\n",
              "      <th>high</th>\n",
              "      <th>low</th>\n",
              "      <th>close</th>\n",
              "      <th>volume</th>\n",
              "      <th>Name</th>\n",
              "      <th>filename</th>\n",
              "      <th>Unnamed: 0</th>\n",
              "      <th>Unnamed: 0.1</th>\n",
              "      <th>score</th>\n",
              "      <th>cont_len</th>\n",
              "      <th>cont_pol</th>\n",
              "      <th>cont_sent</th>\n",
              "    </tr>\n",
              "  </thead>\n",
              "  <tbody>\n",
              "    <tr>\n",
              "      <th>0</th>\n",
              "      <td>2013-02-11</td>\n",
              "      <td>78.65</td>\n",
              "      <td>78.91</td>\n",
              "      <td>77.23</td>\n",
              "      <td>78.39</td>\n",
              "      <td>758016</td>\n",
              "      <td>AAP</td>\n",
              "      <td>/home/mayank/Downloads/technocolab_project/dat...</td>\n",
              "      <td>235862</td>\n",
              "      <td>249256</td>\n",
              "      <td>7</td>\n",
              "      <td>120</td>\n",
              "      <td>0.000</td>\n",
              "      <td>Neutral</td>\n",
              "    </tr>\n",
              "    <tr>\n",
              "      <th>1</th>\n",
              "      <td>2013-02-11</td>\n",
              "      <td>78.65</td>\n",
              "      <td>78.91</td>\n",
              "      <td>77.23</td>\n",
              "      <td>78.39</td>\n",
              "      <td>758016</td>\n",
              "      <td>AAP</td>\n",
              "      <td>/home/mayank/Downloads/technocolab_project/dat...</td>\n",
              "      <td>268045</td>\n",
              "      <td>283581</td>\n",
              "      <td>2</td>\n",
              "      <td>388</td>\n",
              "      <td>0.225</td>\n",
              "      <td>Positive</td>\n",
              "    </tr>\n",
              "    <tr>\n",
              "      <th>2</th>\n",
              "      <td>2013-02-11</td>\n",
              "      <td>78.65</td>\n",
              "      <td>78.91</td>\n",
              "      <td>77.23</td>\n",
              "      <td>78.39</td>\n",
              "      <td>758016</td>\n",
              "      <td>AAP</td>\n",
              "      <td>/home/mayank/Downloads/technocolab_project/dat...</td>\n",
              "      <td>358251</td>\n",
              "      <td>379941</td>\n",
              "      <td>1</td>\n",
              "      <td>94</td>\n",
              "      <td>0.250</td>\n",
              "      <td>Positive</td>\n",
              "    </tr>\n",
              "    <tr>\n",
              "      <th>3</th>\n",
              "      <td>2013-02-11</td>\n",
              "      <td>78.65</td>\n",
              "      <td>78.91</td>\n",
              "      <td>77.23</td>\n",
              "      <td>78.39</td>\n",
              "      <td>758016</td>\n",
              "      <td>AAP</td>\n",
              "      <td>/home/mayank/Downloads/technocolab_project/dat...</td>\n",
              "      <td>388911</td>\n",
              "      <td>412722</td>\n",
              "      <td>0</td>\n",
              "      <td>37</td>\n",
              "      <td>0.000</td>\n",
              "      <td>Neutral</td>\n",
              "    </tr>\n",
              "    <tr>\n",
              "      <th>4</th>\n",
              "      <td>2013-02-11</td>\n",
              "      <td>78.65</td>\n",
              "      <td>78.91</td>\n",
              "      <td>77.23</td>\n",
              "      <td>78.39</td>\n",
              "      <td>758016</td>\n",
              "      <td>AAP</td>\n",
              "      <td>/home/mayank/Downloads/technocolab_project/dat...</td>\n",
              "      <td>406086</td>\n",
              "      <td>430996</td>\n",
              "      <td>2</td>\n",
              "      <td>44</td>\n",
              "      <td>0.000</td>\n",
              "      <td>Neutral</td>\n",
              "    </tr>\n",
              "  </tbody>\n",
              "</table>\n",
              "</div>"
            ],
            "text/plain": [
              "        date   open   high    low  close  volume Name  \\\n",
              "0 2013-02-11  78.65  78.91  77.23  78.39  758016  AAP   \n",
              "1 2013-02-11  78.65  78.91  77.23  78.39  758016  AAP   \n",
              "2 2013-02-11  78.65  78.91  77.23  78.39  758016  AAP   \n",
              "3 2013-02-11  78.65  78.91  77.23  78.39  758016  AAP   \n",
              "4 2013-02-11  78.65  78.91  77.23  78.39  758016  AAP   \n",
              "\n",
              "                                            filename  Unnamed: 0  \\\n",
              "0  /home/mayank/Downloads/technocolab_project/dat...      235862   \n",
              "1  /home/mayank/Downloads/technocolab_project/dat...      268045   \n",
              "2  /home/mayank/Downloads/technocolab_project/dat...      358251   \n",
              "3  /home/mayank/Downloads/technocolab_project/dat...      388911   \n",
              "4  /home/mayank/Downloads/technocolab_project/dat...      406086   \n",
              "\n",
              "   Unnamed: 0.1  score  cont_len  cont_pol cont_sent  \n",
              "0        249256      7       120     0.000   Neutral  \n",
              "1        283581      2       388     0.225  Positive  \n",
              "2        379941      1        94     0.250  Positive  \n",
              "3        412722      0        37     0.000   Neutral  \n",
              "4        430996      2        44     0.000   Neutral  "
            ]
          },
          "execution_count": 14,
          "metadata": {},
          "output_type": "execute_result"
        }
      ],
      "source": [
        "merged_data.head()"
      ]
    },
    {
      "cell_type": "code",
      "execution_count": null,
      "id": "4b598093",
      "metadata": {
        "id": "4b598093",
        "outputId": "e28f2a2b-ee05-454a-d166-9ddb59e6d65b"
      },
      "outputs": [
        {
          "data": {
            "text/plain": [
              "(6412764, 14)"
            ]
          },
          "execution_count": 15,
          "metadata": {},
          "output_type": "execute_result"
        }
      ],
      "source": [
        "merged_data.shape"
      ]
    },
    {
      "cell_type": "code",
      "execution_count": null,
      "id": "6034cb56",
      "metadata": {
        "id": "6034cb56"
      },
      "outputs": [],
      "source": [
        "merged_data.drop(['Unnamed: 0','Unnamed: 0.1',\"filename\"],axis=1,inplace =True)"
      ]
    },
    {
      "cell_type": "code",
      "execution_count": null,
      "id": "a3ac51d4",
      "metadata": {
        "id": "a3ac51d4",
        "outputId": "a2f2b129-fac7-40a0-c18d-2556d3ee1681"
      },
      "outputs": [
        {
          "data": {
            "text/html": [
              "<div>\n",
              "<style scoped>\n",
              "    .dataframe tbody tr th:only-of-type {\n",
              "        vertical-align: middle;\n",
              "    }\n",
              "\n",
              "    .dataframe tbody tr th {\n",
              "        vertical-align: top;\n",
              "    }\n",
              "\n",
              "    .dataframe thead th {\n",
              "        text-align: right;\n",
              "    }\n",
              "</style>\n",
              "<table border=\"1\" class=\"dataframe\">\n",
              "  <thead>\n",
              "    <tr style=\"text-align: right;\">\n",
              "      <th></th>\n",
              "      <th>date</th>\n",
              "      <th>open</th>\n",
              "      <th>high</th>\n",
              "      <th>low</th>\n",
              "      <th>close</th>\n",
              "      <th>volume</th>\n",
              "      <th>Name</th>\n",
              "      <th>score</th>\n",
              "      <th>cont_len</th>\n",
              "      <th>cont_pol</th>\n",
              "      <th>cont_sent</th>\n",
              "    </tr>\n",
              "  </thead>\n",
              "  <tbody>\n",
              "    <tr>\n",
              "      <th>0</th>\n",
              "      <td>2013-02-11</td>\n",
              "      <td>78.65</td>\n",
              "      <td>78.91</td>\n",
              "      <td>77.23</td>\n",
              "      <td>78.39</td>\n",
              "      <td>758016</td>\n",
              "      <td>AAP</td>\n",
              "      <td>7</td>\n",
              "      <td>120</td>\n",
              "      <td>0.000</td>\n",
              "      <td>Neutral</td>\n",
              "    </tr>\n",
              "    <tr>\n",
              "      <th>1</th>\n",
              "      <td>2013-02-11</td>\n",
              "      <td>78.65</td>\n",
              "      <td>78.91</td>\n",
              "      <td>77.23</td>\n",
              "      <td>78.39</td>\n",
              "      <td>758016</td>\n",
              "      <td>AAP</td>\n",
              "      <td>2</td>\n",
              "      <td>388</td>\n",
              "      <td>0.225</td>\n",
              "      <td>Positive</td>\n",
              "    </tr>\n",
              "    <tr>\n",
              "      <th>2</th>\n",
              "      <td>2013-02-11</td>\n",
              "      <td>78.65</td>\n",
              "      <td>78.91</td>\n",
              "      <td>77.23</td>\n",
              "      <td>78.39</td>\n",
              "      <td>758016</td>\n",
              "      <td>AAP</td>\n",
              "      <td>1</td>\n",
              "      <td>94</td>\n",
              "      <td>0.250</td>\n",
              "      <td>Positive</td>\n",
              "    </tr>\n",
              "    <tr>\n",
              "      <th>3</th>\n",
              "      <td>2013-02-11</td>\n",
              "      <td>78.65</td>\n",
              "      <td>78.91</td>\n",
              "      <td>77.23</td>\n",
              "      <td>78.39</td>\n",
              "      <td>758016</td>\n",
              "      <td>AAP</td>\n",
              "      <td>0</td>\n",
              "      <td>37</td>\n",
              "      <td>0.000</td>\n",
              "      <td>Neutral</td>\n",
              "    </tr>\n",
              "    <tr>\n",
              "      <th>4</th>\n",
              "      <td>2013-02-11</td>\n",
              "      <td>78.65</td>\n",
              "      <td>78.91</td>\n",
              "      <td>77.23</td>\n",
              "      <td>78.39</td>\n",
              "      <td>758016</td>\n",
              "      <td>AAP</td>\n",
              "      <td>2</td>\n",
              "      <td>44</td>\n",
              "      <td>0.000</td>\n",
              "      <td>Neutral</td>\n",
              "    </tr>\n",
              "  </tbody>\n",
              "</table>\n",
              "</div>"
            ],
            "text/plain": [
              "        date   open   high    low  close  volume Name  score  cont_len  \\\n",
              "0 2013-02-11  78.65  78.91  77.23  78.39  758016  AAP      7       120   \n",
              "1 2013-02-11  78.65  78.91  77.23  78.39  758016  AAP      2       388   \n",
              "2 2013-02-11  78.65  78.91  77.23  78.39  758016  AAP      1        94   \n",
              "3 2013-02-11  78.65  78.91  77.23  78.39  758016  AAP      0        37   \n",
              "4 2013-02-11  78.65  78.91  77.23  78.39  758016  AAP      2        44   \n",
              "\n",
              "   cont_pol cont_sent  \n",
              "0     0.000   Neutral  \n",
              "1     0.225  Positive  \n",
              "2     0.250  Positive  \n",
              "3     0.000   Neutral  \n",
              "4     0.000   Neutral  "
            ]
          },
          "execution_count": 17,
          "metadata": {},
          "output_type": "execute_result"
        }
      ],
      "source": [
        "merged_data.head()"
      ]
    },
    {
      "cell_type": "code",
      "execution_count": null,
      "id": "b22bde6f",
      "metadata": {
        "scrolled": true,
        "id": "b22bde6f",
        "outputId": "464ec537-e571-45ba-e29e-89dc0460ebf7"
      },
      "outputs": [
        {
          "data": {
            "text/plain": [
              "date           0\n",
              "open         470\n",
              "high         470\n",
              "low          470\n",
              "close          0\n",
              "volume         0\n",
              "Name           0\n",
              "score          0\n",
              "cont_len       0\n",
              "cont_pol       0\n",
              "cont_sent      0\n",
              "dtype: int64"
            ]
          },
          "execution_count": 18,
          "metadata": {},
          "output_type": "execute_result"
        }
      ],
      "source": [
        "merged_data.isnull().sum()"
      ]
    },
    {
      "cell_type": "code",
      "execution_count": null,
      "id": "248b16f5",
      "metadata": {
        "id": "248b16f5"
      },
      "outputs": [],
      "source": [
        "merged_data.dropna(axis = 0,inplace =True)"
      ]
    },
    {
      "cell_type": "code",
      "execution_count": null,
      "id": "91623441",
      "metadata": {
        "id": "91623441"
      },
      "outputs": [],
      "source": [
        "merged_data.set_index(\"date\", inplace = True)\n"
      ]
    },
    {
      "cell_type": "code",
      "execution_count": null,
      "id": "73236374",
      "metadata": {
        "id": "73236374"
      },
      "outputs": [],
      "source": [
        "import talib"
      ]
    },
    {
      "cell_type": "code",
      "execution_count": null,
      "id": "67bf1f92",
      "metadata": {
        "id": "67bf1f92"
      },
      "outputs": [],
      "source": [
        "#merged_data['S_10'] = merged_data['close'].rolling(window=10).mean()\n",
        "#merged_data['Corr'] = merged_data['close'].rolling(window=10).corr(merged_data['S_10'])\n",
        "#merged_data['RSI'] = talib.RSI(np.array(merged_data['close']), timeperiod =10)\n",
        "#merged_data['Open-Close'] = merged_data['open'] - merged_data['close'].shift(1)\n",
        "#merged_data['Open-Open'] = merged_data['open'] - merged_data['open'].shift(1)"
      ]
    },
    {
      "cell_type": "code",
      "execution_count": null,
      "id": "e67bb687",
      "metadata": {
        "id": "e67bb687"
      },
      "outputs": [],
      "source": [
        "#merged_data['target'] = np.where(merged_data['close'].shift(-1) > merged_data['close'],1,0)\n"
      ]
    },
    {
      "cell_type": "code",
      "execution_count": null,
      "id": "910b7a85",
      "metadata": {
        "id": "910b7a85"
      },
      "outputs": [],
      "source": [
        "merged_data['target'] = np.where(merged_data['close'].shift(-1) > merged_data['close'],1,0)\n"
      ]
    },
    {
      "cell_type": "code",
      "execution_count": null,
      "id": "a1491a98",
      "metadata": {
        "id": "a1491a98"
      },
      "outputs": [],
      "source": [
        "merged_data.drop(['Name','cont_len'], axis=1, inplace=True)"
      ]
    },
    {
      "cell_type": "code",
      "execution_count": null,
      "id": "fb560c71",
      "metadata": {
        "id": "fb560c71",
        "outputId": "54faeb19-5b9e-433b-f1c2-a2bd1c88d5ae"
      },
      "outputs": [
        {
          "name": "stdout",
          "output_type": "stream",
          "text": [
            "<class 'pandas.core.frame.DataFrame'>\n",
            "DatetimeIndex: 6412294 entries, 2013-02-11 to 2018-02-07\n",
            "Data columns (total 9 columns):\n",
            " #   Column     Dtype  \n",
            "---  ------     -----  \n",
            " 0   open       float64\n",
            " 1   high       float64\n",
            " 2   low        float64\n",
            " 3   close      float64\n",
            " 4   volume     int64  \n",
            " 5   score      int64  \n",
            " 6   cont_pol   float64\n",
            " 7   cont_sent  object \n",
            " 8   target     int64  \n",
            "dtypes: float64(5), int64(3), object(1)\n",
            "memory usage: 489.2+ MB\n"
          ]
        }
      ],
      "source": [
        "merged_data.info()"
      ]
    },
    {
      "cell_type": "code",
      "execution_count": null,
      "id": "5c84a2cc",
      "metadata": {
        "id": "5c84a2cc"
      },
      "outputs": [],
      "source": [
        "merged_data.dropna(axis = 0,inplace =True)"
      ]
    },
    {
      "cell_type": "code",
      "execution_count": null,
      "id": "c7e9bbc1",
      "metadata": {
        "id": "c7e9bbc1"
      },
      "outputs": [],
      "source": [
        "from sklearn.linear_model import LogisticRegression\n",
        "from sklearn import metrics\n",
        "from sklearn.model_selection import train_test_split\n"
      ]
    },
    {
      "cell_type": "code",
      "execution_count": null,
      "id": "5f110481",
      "metadata": {
        "id": "5f110481"
      },
      "outputs": [],
      "source": [
        "#merged_data['target'] = merged_data.apply(lambda row: check_target(row), axis=1)\n",
        "merged_data['cont_sent'] = merged_data['cont_sent'].replace({'Neutral': 0, 'Positive': 1, 'Negative': -1})"
      ]
    },
    {
      "cell_type": "code",
      "execution_count": null,
      "id": "72f04120",
      "metadata": {
        "id": "72f04120"
      },
      "outputs": [],
      "source": [
        "merged_data.dropna(axis=0,inplace=True)"
      ]
    },
    {
      "cell_type": "code",
      "execution_count": null,
      "id": "8aaedc23",
      "metadata": {
        "id": "8aaedc23"
      },
      "outputs": [],
      "source": [
        "#from sklearn.preprocessing import MinMaxScaler\n",
        "#scaler = StandardScaler()\n",
        "#scaler.fit(merged_data)\n",
        "#merged_data = scaler.transform(merged_data)\n",
        "\n",
        "#scaler = MinMaxScaler()\n",
        "# transform data\n",
        "#scaled_data = scaler.fit_transform(merged_data)\n"
      ]
    },
    {
      "cell_type": "code",
      "execution_count": null,
      "id": "75b49aac",
      "metadata": {
        "id": "75b49aac"
      },
      "outputs": [],
      "source": [
        "X = merged_data.drop('target', axis=1)\n",
        "y = merged_data[['target']]\n",
        "X_train, X_test, y_train, y_test = train_test_split(X, y, test_size=0.40, random_state=1)"
      ]
    },
    {
      "cell_type": "code",
      "execution_count": null,
      "id": "41a21449",
      "metadata": {
        "id": "41a21449",
        "outputId": "c554f921-6259-451d-e3a7-9e69839d26b5"
      },
      "outputs": [
        {
          "data": {
            "text/plain": [
              "target    1444\n",
              "dtype: int64"
            ]
          },
          "execution_count": 33,
          "metadata": {},
          "output_type": "execute_result"
        }
      ],
      "source": [
        "#y_train[y_train==1].count()"
      ]
    },
    {
      "cell_type": "code",
      "execution_count": null,
      "id": "0fd428d2",
      "metadata": {
        "id": "0fd428d2",
        "outputId": "ae1bda5e-28e7-4062-b014-031dcda24f73"
      },
      "outputs": [
        {
          "data": {
            "text/plain": [
              "target    3845932\n",
              "dtype: int64"
            ]
          },
          "execution_count": 34,
          "metadata": {},
          "output_type": "execute_result"
        }
      ],
      "source": [
        "#y_train[y_train==0].count()"
      ]
    },
    {
      "cell_type": "code",
      "execution_count": null,
      "id": "1dae2eb1",
      "metadata": {
        "id": "1dae2eb1",
        "outputId": "d1cbda71-a83f-4786-d2fb-1f2eb4ba2d31"
      },
      "outputs": [
        {
          "name": "stderr",
          "output_type": "stream",
          "text": [
            "/home/mayank/anaconda3/lib/python3.8/site-packages/sklearn/utils/validation.py:63: DataConversionWarning: A column-vector y was passed when a 1d array was expected. Please change the shape of y to (n_samples, ), for example using ravel().\n",
            "  return f(*args, **kwargs)\n"
          ]
        }
      ],
      "source": [
        "model = LogisticRegression()\n",
        "model.fit(X_train, y_train)\n",
        "y_predict = model.predict(X_test)"
      ]
    },
    {
      "cell_type": "code",
      "execution_count": null,
      "id": "6f3b23ab",
      "metadata": {
        "id": "6f3b23ab",
        "outputId": "f8b39038-4c64-4cfb-acfc-ef46bc24319a"
      },
      "outputs": [
        {
          "name": "stdout",
          "output_type": "stream",
          "text": [
            "0.9996226000207414\n"
          ]
        }
      ],
      "source": [
        "model_score = model.score(X_test, y_test)\n",
        "print(model_score)"
      ]
    },
    {
      "cell_type": "code",
      "execution_count": null,
      "id": "2e6b329f",
      "metadata": {
        "id": "2e6b329f",
        "outputId": "c350a9c4-1afe-420c-9070-5fcca4c87680"
      },
      "outputs": [
        {
          "data": {
            "text/plain": [
              "0.9996246792619178"
            ]
          },
          "execution_count": 37,
          "metadata": {},
          "output_type": "execute_result"
        }
      ],
      "source": [
        "model.score(X_train, y_train)"
      ]
    },
    {
      "cell_type": "code",
      "execution_count": null,
      "id": "e4a5cf34",
      "metadata": {
        "id": "e4a5cf34",
        "outputId": "5f3169f7-57cf-457b-bbb4-ccdb5195b763"
      },
      "outputs": [
        {
          "name": "stdout",
          "output_type": "stream",
          "text": [
            "[[9.99999889e-01 1.10516419e-07]\n",
            " [9.99915696e-01 8.43043740e-05]\n",
            " [9.99999356e-01 6.44053477e-07]\n",
            " ...\n",
            " [9.99997800e-01 2.20026729e-06]\n",
            " [9.99994248e-01 5.75181329e-06]\n",
            " [9.99987544e-01 1.24559666e-05]]\n"
          ]
        }
      ],
      "source": [
        "probability = model.predict_proba(X_test)\n",
        "print(probability)\n",
        "\n",
        "predicted = model.predict(X_test)"
      ]
    },
    {
      "cell_type": "code",
      "execution_count": null,
      "id": "79f8c146",
      "metadata": {
        "id": "79f8c146",
        "outputId": "24c76648-0ec6-47c1-a007-da256e3bb352"
      },
      "outputs": [
        {
          "name": "stdout",
          "output_type": "stream",
          "text": [
            "[[2563950       0]\n",
            " [    968       0]]\n"
          ]
        }
      ],
      "source": [
        "print(metrics.confusion_matrix(y_test, predicted))"
      ]
    },
    {
      "cell_type": "code",
      "execution_count": null,
      "id": "578a525b",
      "metadata": {
        "id": "578a525b",
        "outputId": "8779e0d6-0d08-4069-d2a2-e8bd8d384355"
      },
      "outputs": [
        {
          "name": "stderr",
          "output_type": "stream",
          "text": [
            "/home/mayank/anaconda3/lib/python3.8/site-packages/sklearn/metrics/_classification.py:1245: UndefinedMetricWarning: Precision and F-score are ill-defined and being set to 0.0 in labels with no predicted samples. Use `zero_division` parameter to control this behavior.\n",
            "  _warn_prf(average, modifier, msg_start, len(result))\n",
            "/home/mayank/anaconda3/lib/python3.8/site-packages/sklearn/metrics/_classification.py:1245: UndefinedMetricWarning: Precision and F-score are ill-defined and being set to 0.0 in labels with no predicted samples. Use `zero_division` parameter to control this behavior.\n",
            "  _warn_prf(average, modifier, msg_start, len(result))\n"
          ]
        },
        {
          "name": "stdout",
          "output_type": "stream",
          "text": [
            "              precision    recall  f1-score   support\n",
            "\n",
            "           0       1.00      1.00      1.00   2563950\n",
            "           1       0.00      0.00      0.00       968\n",
            "\n",
            "    accuracy                           1.00   2564918\n",
            "   macro avg       0.50      0.50      0.50   2564918\n",
            "weighted avg       1.00      1.00      1.00   2564918\n",
            "\n"
          ]
        },
        {
          "name": "stderr",
          "output_type": "stream",
          "text": [
            "/home/mayank/anaconda3/lib/python3.8/site-packages/sklearn/metrics/_classification.py:1245: UndefinedMetricWarning: Precision and F-score are ill-defined and being set to 0.0 in labels with no predicted samples. Use `zero_division` parameter to control this behavior.\n",
            "  _warn_prf(average, modifier, msg_start, len(result))\n"
          ]
        }
      ],
      "source": [
        "print(metrics.classification_report(y_test, predicted))"
      ]
    },
    {
      "cell_type": "code",
      "execution_count": null,
      "id": "8510b6a5",
      "metadata": {
        "id": "8510b6a5",
        "outputId": "a7685ca4-5d61-44df-a3d1-04447a2012a7"
      },
      "outputs": [
        {
          "data": {
            "text/html": [
              "<div>\n",
              "<style scoped>\n",
              "    .dataframe tbody tr th:only-of-type {\n",
              "        vertical-align: middle;\n",
              "    }\n",
              "\n",
              "    .dataframe tbody tr th {\n",
              "        vertical-align: top;\n",
              "    }\n",
              "\n",
              "    .dataframe thead th {\n",
              "        text-align: right;\n",
              "    }\n",
              "</style>\n",
              "<table border=\"1\" class=\"dataframe\">\n",
              "  <thead>\n",
              "    <tr style=\"text-align: right;\">\n",
              "      <th></th>\n",
              "      <th>open</th>\n",
              "      <th>high</th>\n",
              "      <th>low</th>\n",
              "      <th>close</th>\n",
              "      <th>volume</th>\n",
              "      <th>score</th>\n",
              "      <th>cont_pol</th>\n",
              "      <th>cont_sent</th>\n",
              "    </tr>\n",
              "    <tr>\n",
              "      <th>target</th>\n",
              "      <th></th>\n",
              "      <th></th>\n",
              "      <th></th>\n",
              "      <th></th>\n",
              "      <th></th>\n",
              "      <th></th>\n",
              "      <th></th>\n",
              "      <th></th>\n",
              "    </tr>\n",
              "  </thead>\n",
              "  <tbody>\n",
              "    <tr>\n",
              "      <th>0</th>\n",
              "      <td>6409882</td>\n",
              "      <td>6409882</td>\n",
              "      <td>6409882</td>\n",
              "      <td>6409882</td>\n",
              "      <td>6409882</td>\n",
              "      <td>6409882</td>\n",
              "      <td>6409882</td>\n",
              "      <td>6409882</td>\n",
              "    </tr>\n",
              "    <tr>\n",
              "      <th>1</th>\n",
              "      <td>2412</td>\n",
              "      <td>2412</td>\n",
              "      <td>2412</td>\n",
              "      <td>2412</td>\n",
              "      <td>2412</td>\n",
              "      <td>2412</td>\n",
              "      <td>2412</td>\n",
              "      <td>2412</td>\n",
              "    </tr>\n",
              "  </tbody>\n",
              "</table>\n",
              "</div>"
            ],
            "text/plain": [
              "           open     high      low    close   volume    score  cont_pol  \\\n",
              "target                                                                   \n",
              "0       6409882  6409882  6409882  6409882  6409882  6409882   6409882   \n",
              "1          2412     2412     2412     2412     2412     2412      2412   \n",
              "\n",
              "        cont_sent  \n",
              "target             \n",
              "0         6409882  \n",
              "1            2412  "
            ]
          },
          "execution_count": 41,
          "metadata": {},
          "output_type": "execute_result"
        }
      ],
      "source": [
        "merged_data.groupby([\"target\"]).count()\n"
      ]
    },
    {
      "cell_type": "code",
      "execution_count": null,
      "id": "bd858393",
      "metadata": {
        "id": "bd858393"
      },
      "outputs": [],
      "source": [
        "#from sklearn.model_selection import RepeatedStratifiedKFold\n",
        "#from sklearn.model_selection import GridSearchCV\n",
        "#model = LogisticRegression()\n",
        "#solvers = ['newton-cg', 'lbfgs', 'liblinear']\n",
        "#penalty = ['l2','l1']\n",
        "#c_values = [100, 10, 1.0, 0.1, 0.01]\n",
        "# define grid search\n",
        "#grid = dict(solver=solvers,penalty=penalty,C=c_values)\n",
        "#cv = RepeatedStratifiedKFold(n_splits=10, n_repeats=3, random_state=1)\n",
        "#grid_search = GridSearchCV(estimator=model, param_grid=grid, n_jobs=-1, cv=cv, scoring='accuracy',error_score=0)\n",
        "#grid_result = grid_search.fit(X_train, y_train)\n",
        "# summarize results\n",
        "#print(\"Best: %f using %s\" % (grid_result.best_score_, grid_result.best_params_))\n",
        "#means = grid_result.cv_results_['mean_test_score']\n",
        "#stds = grid_result.cv_results_['std_test_score']\n",
        "#params = grid_result.cv_results_['params']\n",
        "#for mean, stdev, param in zip(means, stds, params):\n",
        "#    print(\"%f (%f) with: %r\" % (mean, stdev, param))"
      ]
    },
    {
      "cell_type": "code",
      "execution_count": null,
      "id": "f2d76d8b",
      "metadata": {
        "id": "f2d76d8b"
      },
      "outputs": [],
      "source": [
        "from sklearn.ensemble import RandomForestClassifier, BaggingClassifier , AdaBoostClassifier , VotingClassifier\n",
        "classifier = RandomForestClassifier(n_estimators=20,random_state=0)\n",
        "classifier.fit(X_train,y_train)\n",
        "y_pred = classifier.predict(X_test)"
      ]
    },
    {
      "cell_type": "code",
      "execution_count": null,
      "id": "f05fa1b9",
      "metadata": {
        "id": "f05fa1b9"
      },
      "outputs": [],
      "source": [
        "from sklearn.metrics import classification_report,confusion_matrix,accuracy_score\n",
        "print(confusion_matrix(y_test,y_pred))\n",
        "print(classification_report(y_test,y_pred))\n",
        "print(accuracy_score(y_test,y_pred))"
      ]
    },
    {
      "cell_type": "code",
      "source": [
        "from sklearn.tree import DecisionTreeClassifier\n",
        "dt = DecisionTreeClassifier()\n",
        "dt.fit(X_train,y_train)\n",
        "Y_pred = dt.predict(X_test)"
      ],
      "metadata": {
        "id": "yfv8945uh5Gw"
      },
      "id": "yfv8945uh5Gw",
      "execution_count": null,
      "outputs": []
    },
    {
      "cell_type": "code",
      "source": [
        "print(confusion_matrix(y_test,Y_pred))\n",
        "print(classification_report(y_test,Y_pred))\n",
        "print(accuracy_score(y_test,Y_pred))"
      ],
      "metadata": {
        "id": "u294TTjvjomU"
      },
      "id": "u294TTjvjomU",
      "execution_count": null,
      "outputs": []
    },
    {
      "cell_type": "code",
      "source": [
        "bg = BaggingClassifier(DecisionTreeClassifier(),max_samples=0.5,max_features=1,n_estimators=20)\n",
        "bg.fit(X_train,y_train)\n",
        "Y_Pred = bg.predict(X_test)"
      ],
      "metadata": {
        "id": "WB9d8i0gj75e"
      },
      "id": "WB9d8i0gj75e",
      "execution_count": null,
      "outputs": []
    },
    {
      "cell_type": "code",
      "source": [
        "print(confusion_matrix(y_test,Y_Pred))\n",
        "print(classification_report(y_test,Y_Pred))\n",
        "print(accuracy_score(y_test,Y_Pred))"
      ],
      "metadata": {
        "id": "dMYcMwVUmLhN"
      },
      "id": "dMYcMwVUmLhN",
      "execution_count": null,
      "outputs": []
    },
    {
      "cell_type": "code",
      "source": [
        "abc = AdaBoostClassifier(DecisionTreeClassifier(), n_estimators = 5,learning_rate =0.1)\n",
        "abc.fit(X_train,y_train)\n",
        "abc.score(X_test,y_test)"
      ],
      "metadata": {
        "id": "gnPKKkWOnd-a"
      },
      "id": "gnPKKkWOnd-a",
      "execution_count": null,
      "outputs": []
    },
    {
      "cell_type": "code",
      "source": [
        "# Multi Voting Classifier\n",
        "lr = LogisticRegression()\n",
        "dt = DecisionTreeClassifier()\n",
        "svm = SVC(kernel='poly',degree=2)\n",
        "evc = VotingClassifier(estimators = [('lr',lr),('dt',dt),('svm',svm)],voting='hard')\n",
        "evc.fit(X_train,y_train)\n",
        "evc.score(X_test,y_test)"
      ],
      "metadata": {
        "id": "5Pwf5Nrjpf_y"
      },
      "id": "5Pwf5Nrjpf_y",
      "execution_count": null,
      "outputs": []
    }
  ],
  "metadata": {
    "kernelspec": {
      "display_name": "Python 3",
      "language": "python",
      "name": "python3"
    },
    "language_info": {
      "codemirror_mode": {
        "name": "ipython",
        "version": 3
      },
      "file_extension": ".py",
      "mimetype": "text/x-python",
      "name": "python",
      "nbconvert_exporter": "python",
      "pygments_lexer": "ipython3",
      "version": "3.8.8"
    },
    "colab": {
      "name": "LOGISTIC REGRESSION MODEL.ipynb",
      "provenance": []
    }
  },
  "nbformat": 4,
  "nbformat_minor": 5
}